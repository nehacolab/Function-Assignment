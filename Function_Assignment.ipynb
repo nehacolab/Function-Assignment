{
  "nbformat": 4,
  "nbformat_minor": 0,
  "metadata": {
    "colab": {
      "provenance": []
    },
    "kernelspec": {
      "name": "python3",
      "display_name": "Python 3"
    },
    "language_info": {
      "name": "python"
    }
  },
  "cells": [
    {
      "cell_type": "markdown",
      "source": [
        "Q-1 What is the difference between a function and a method in Python?"
      ],
      "metadata": {
        "id": "b4QwLGy3NQF5"
      }
    },
    {
      "cell_type": "markdown",
      "source": [
        "Ans Function\tMethod\n",
        "Not tied to any object\n",
        "function_name()\n",
        "def keyword\n",
        "\n",
        "Method\n",
        "Belongs to an object (class instance)\n",
        "object.method_name()\n",
        "def inside a class\n",
        "\n",
        "def add(a, b):\n",
        "    return a + b\n",
        "\n",
        "print(add(3, 5)) Output: 8\n",
        "🔹 Method Example:\n",
        "python\n",
        "\n",
        "class Calculator:\n",
        "    def add(self, a, b):\n",
        "        return a + b\n",
        "\n",
        "calc = Calculator()\n",
        "print(calc.add(3, 5))  Output: 8\n",
        "\n",
        "\n"
      ],
      "metadata": {
        "id": "6wVg3oA-N8vB"
      }
    },
    {
      "cell_type": "markdown",
      "source": [
        "Q-2 Explain the concept of function arguments and parameters in Python ?"
      ],
      "metadata": {
        "id": "x_Z_1OaQQJnD"
      }
    },
    {
      "cell_type": "markdown",
      "source": [
        "Ans Parameters are the variables listed in a function’s definition.\n",
        "Arguments are the actual values you pass to the function when calling it.\n",
        "\n",
        "Example:\n",
        "python\n",
        "\n",
        "def greet(name):  'name' is a parameter\n",
        "    print(f\"Hello, {name}!\")\n",
        "\n",
        "greet(\"Alice\")    \"Alice\" is the argument\n",
        "Here, name is the parameter, and \"Alice\" is the argument passed to the function.\n",
        "\n",
        "\n",
        "\n",
        "\n",
        "\n",
        "\n",
        "\n",
        "\n"
      ],
      "metadata": {
        "id": "FnxZmcI-PydG"
      }
    },
    {
      "cell_type": "markdown",
      "source": [
        "Q-3 What are the different ways to define and call a function in Python?"
      ],
      "metadata": {
        "id": "FHIElzMwQsNP"
      }
    },
    {
      "cell_type": "markdown",
      "source": [
        "Ans Here are the different ways to define and call a function in Python:\n",
        "\n",
        "1. Regular Function\n",
        "python\n",
        "\n",
        "def greet():\n",
        "    print(\"Hello!\")\n",
        "\n",
        "greet()  # Call without arguments\n",
        "2. Function with Parameters\n",
        "python\n",
        "\n",
        "def greet(name):\n",
        "    print(f\"Hello, {name}!\")\n",
        "\n",
        "greet(\"Alice\")  # Call with an argument\n",
        "3. Function with Default Parameters\n",
        "python\n",
        "\n",
        "def greet(name=\"Guest\"):\n",
        "    print(f\"Hello, {name}!\")\n",
        "\n",
        "greet()         Uses default: Hello, Guest!\n",
        "greet(\"Bob\")     Hello, Bob!\n",
        "4. Function with Variable-length Arguments\n",
        "python\n",
        "\n",
        "def greet(*names):\n",
        "    for name in names:\n",
        "        print(f\"Hello, {name}!\")\n",
        "\n",
        "greet(\"Alice\", \"Bob\", \"Charlie\")\n",
        "These cover the main ways to define and call functions in Python!\n",
        "\n",
        "\n",
        "\n",
        "\n",
        "\n",
        "\n",
        "\n",
        "\n"
      ],
      "metadata": {
        "id": "zq-Yht-4Qy4D"
      }
    },
    {
      "cell_type": "markdown",
      "source": [
        "Q-4 What is the purpose of the `return` statement in a Python function?"
      ],
      "metadata": {
        "id": "8zOeFMLnRR73"
      }
    },
    {
      "cell_type": "markdown",
      "source": [
        "Ans The return statement in a Python function sends a result back to the caller and ends the function execution.\n",
        "\n",
        "Without return, a function returns None by default.\n",
        "\n",
        "Example:\n",
        "python\n",
        "\n",
        "def add(a, b):\n",
        "    return a + b\n",
        "\n",
        "result = add(3, 4)\n",
        "print(result)  Output: 7\n"
      ],
      "metadata": {
        "id": "PsRj4BGWRi_j"
      }
    },
    {
      "cell_type": "markdown",
      "source": [
        "Q-5 What are iterators in Python and how do they differ from iterables?"
      ],
      "metadata": {
        "id": "JXemLQwfRowl"
      }
    },
    {
      "cell_type": "markdown",
      "source": [
        "Ans Iterables vs Iterators in Python:\n",
        "Iterable: Any Python object you can loop over (e.g., lists, strings). It has an __iter__() method that returns an iterator.\n",
        "\n",
        "Iterator: An object that represents a stream of data; it remembers its state and returns the next item when you call next() on it. It has both __iter__() and __next__() methods.\n",
        "\n",
        "Example:\n",
        "python\n",
        "my_list = [1, 2, 3]\n",
        "\n",
        "\n",
        "my_iter = iter(my_list)\n",
        "\n",
        "print(next(my_iter))  # Output: 1\n",
        "print(next(my_iter))  # Output: 2\n",
        "print(next(my_iter))  # Output: 3\n",
        "\n",
        "my_list is iterable.\n",
        "\n",
        "my_iter is an iterator that you use to fetch items one by one.\n",
        "\n",
        "\n",
        "\n",
        "\n",
        "\n",
        "\n",
        "\n",
        "\n"
      ],
      "metadata": {
        "id": "6xIOQ3BzR84z"
      }
    },
    {
      "cell_type": "markdown",
      "source": [
        "Q-6 Explain the concept of generators in Python and how they are defined ?"
      ],
      "metadata": {
        "id": "MdnWa2VDSJiO"
      }
    },
    {
      "cell_type": "markdown",
      "source": [
        "Ans Generators in Python:\n",
        "Generators are special functions that yield values one at a time, allowing you to iterate over data without storing everything in memory. They produce items lazily, which is memory-efficient for large data.\n",
        "\n",
        "How to define a generator:\n",
        "Use the yield keyword instead of return inside a function.\n",
        "\n",
        "Each call to next() resumes the function from where it left off, until no more yield statements remain.\n",
        "\n",
        "Example:\n",
        "python\n",
        "\n",
        "def count_up_to(n):\n",
        "    count = 1\n",
        "    while count <= n:\n",
        "        yield count\n",
        "        count += 1\n",
        "\n",
        "gen = count_up_to(3)\n",
        "print(next(gen))  # 1\n",
        "print(next(gen))  # 2\n",
        "print(next(gen))  # 3\n"
      ],
      "metadata": {
        "id": "cECcefv8STgN"
      }
    },
    {
      "cell_type": "markdown",
      "source": [
        "Q-7 What are the advantages of using generators over regular functions?"
      ],
      "metadata": {
        "id": "ArOxyH_8Sq5B"
      }
    },
    {
      "cell_type": "markdown",
      "source": [
        "Ans Here are the key advantages of generators over regular functions:\n",
        "\n",
        "Memory Efficiency: Generators yield items one at a time, so they don’t store the entire sequence in memory. Great for large datasets or infinite sequences.\n",
        "\n",
        "Lazy Evaluation: Values are produced only when needed, which can improve performance if you don’t need all results at once.\n",
        "\n",
        "Simpler Code: Generators make it easier to write iterators without implementing a class with __iter__() and __next__() methods.\n",
        "\n",
        "Pipelining: Generators can be chained together to create data processing pipelines.\n",
        "\n",
        "Basically, generators are perfect for efficient, on-demand data production!\n",
        "\n",
        "\n",
        "\n",
        "\n",
        "\n",
        "\n",
        "\n",
        "\n"
      ],
      "metadata": {
        "id": "AEG_jgsvSx4H"
      }
    },
    {
      "cell_type": "markdown",
      "source": [
        "Q-8 What is a lambda function in Python and when is it typically used?"
      ],
      "metadata": {
        "id": "m0N-CISbS9xb"
      }
    },
    {
      "cell_type": "markdown",
      "source": [
        "Ans Lambda Function in Python:\n",
        "A lambda function is a small, anonymous (unnamed) function defined with the lambda keyword. It can have any number of arguments but only one expression, which is returned automatically.\n",
        "\n",
        "When is it used?\n",
        "For short, simple functions, especially as arguments to functions like map(), filter(), and sorted().\n",
        "\n",
        "When you want to define a quick function inline without formally defining it using def.\n",
        "\n",
        "Example:\n",
        "python\n",
        "square = lambda x: x ** 2\n",
        "print(square(5))  # Output: 25\n",
        "\n",
        "\n",
        "nums = [1, 2, 3]\n",
        "squares = list(map(lambda x: x**2, nums))\n",
        "print(squares)  Output: [1, 4, 9]\n"
      ],
      "metadata": {
        "id": "pePD8eHUTMT3"
      }
    },
    {
      "cell_type": "markdown",
      "source": [
        "Q-9 Explain the purpose and usage of the `map()` function in Python ?"
      ],
      "metadata": {
        "id": "O9uNWLUZTSu2"
      }
    },
    {
      "cell_type": "markdown",
      "source": [
        "Ans Purpose of map() in Python:\n",
        "map() applies a given function to every item in an iterable (like a list) and returns an iterator with the results.\n",
        "\n",
        "Usage:\n",
        "python\n",
        "\n",
        "map(function, iterable)\n",
        "function: A function to apply to each item.\n",
        "\n",
        "iterable: The sequence (like list, tuple) whose items are processed.\n",
        "\n",
        "Example:\n",
        "python\n",
        "\n",
        "nums = [1, 2, 3, 4]\n",
        "squared = map(lambda x: x**2, nums)\n",
        "print(list(squared))  Output: [1, 4, 9, 16]\n"
      ],
      "metadata": {
        "id": "bgZJCr4lTgRE"
      }
    },
    {
      "cell_type": "markdown",
      "source": [
        "Q-10 What is the difference between `map()`, `reduce()`, and `filter()` functions in Python?*italicized text*"
      ],
      "metadata": {
        "id": "tRqvOFo7TsXf"
      }
    },
    {
      "cell_type": "markdown",
      "source": [
        "Ans Here’s a quick comparison:\n",
        "\n",
        "\n",
        "map()\tApplies a function to all items in an, iterable\tIterator of transformed items\t,Example Square every number in a list\n",
        "filter()\tKeeps only items where function returns True , \tIterator of filtered items, Example \tKeep only even numbers\n",
        "reduce()\tApplies a function cumulatively to reduce iterable to a single value,\tSingle value (not iterator), Example \tSum all numbers, multiply all items\n",
        "\n"
      ],
      "metadata": {
        "id": "_2bcEvngTxax"
      }
    },
    {
      "cell_type": "markdown",
      "source": [
        "Q-11 Using pen & Paper write the internal mechanism for sum operation using  reduce function on this given list:[47,11,42,13]?\n"
      ],
      "metadata": {
        "id": "GAwStolGVbgZ"
      }
    },
    {
      "cell_type": "markdown",
      "source": [
        "Ans List: [47, 11, 42, 13]\n",
        "Step-by-step reduce for sum:\n",
        "Start with first two elements:\n",
        "x = 47, y = 11\n",
        "Result: 47 + 11 = 58\n",
        "\n",
        "Next, use the result and the next element:\n",
        "x = 58, y = 42\n",
        "Result: 58 + 42 = 100\n",
        "\n",
        "Next, use the result and the last element:\n",
        "x = 100, y = 13\n",
        "Result: 100 + 13 = 113\n",
        "\n",
        "Final result: 113\n"
      ],
      "metadata": {
        "id": "b9hcguvFUs6d"
      }
    },
    {
      "cell_type": "markdown",
      "source": [
        "# ***PRACTICAL QUESTIONS***"
      ],
      "metadata": {
        "id": "OfHpFRT0VHZJ"
      }
    },
    {
      "cell_type": "markdown",
      "source": [
        "Q-1 Write a Python function that takes a list of numbers as input and returns the sum of all even numbers in the list?  \n"
      ],
      "metadata": {
        "id": "EyTP9VltVOqS"
      }
    },
    {
      "cell_type": "code",
      "source": [
        "def sum_even_numbers(numbers):\n",
        "    return sum(num for num in numbers if num % 2 == 0)\n",
        "nums = [1, 2, 3, 4, 5, 6]\n",
        "print(sum_even_numbers(nums))"
      ],
      "metadata": {
        "colab": {
          "base_uri": "https://localhost:8080/"
        },
        "id": "JWFTZljdWL3m",
        "outputId": "560ddfeb-0ac6-4e09-b5d1-198711c0a729"
      },
      "execution_count": null,
      "outputs": [
        {
          "output_type": "stream",
          "name": "stdout",
          "text": [
            "12\n"
          ]
        }
      ]
    },
    {
      "cell_type": "markdown",
      "source": [
        "Q-2 Create a Python function that accepts a string and returns the reverse of that string ?"
      ],
      "metadata": {
        "id": "OvKo4Gj0WZO8"
      }
    },
    {
      "cell_type": "code",
      "source": [
        "def reverse_string(s):\n",
        "    return s[::-1]\n",
        "\n",
        "print(reverse_string(\"hello\"))\n"
      ],
      "metadata": {
        "colab": {
          "base_uri": "https://localhost:8080/"
        },
        "id": "4TdcZe8JWoji",
        "outputId": "d2eea38c-21dd-459f-ef6b-74f44b538e9c"
      },
      "execution_count": null,
      "outputs": [
        {
          "output_type": "stream",
          "name": "stdout",
          "text": [
            "olleh\n"
          ]
        }
      ]
    },
    {
      "cell_type": "markdown",
      "source": [
        "Q-3 Implement a Python function that takes a list of integers and returns a new list containing the squares of each number ?\n"
      ],
      "metadata": {
        "id": "6XPjR7QYXYw-"
      }
    },
    {
      "cell_type": "code",
      "source": [
        "def square_list(numbers):\n",
        "    return [x**2 for x in numbers]\n",
        "nums = [1, 2, 3, 4]\n",
        "print(square_list(nums))"
      ],
      "metadata": {
        "colab": {
          "base_uri": "https://localhost:8080/"
        },
        "id": "43jaYy8_X564",
        "outputId": "e46a008a-16ae-4cd5-a948-b14f66d37b0c"
      },
      "execution_count": null,
      "outputs": [
        {
          "output_type": "stream",
          "name": "stdout",
          "text": [
            "[1, 4, 9, 16]\n"
          ]
        }
      ]
    },
    {
      "cell_type": "markdown",
      "source": [
        "Q-4. Write a Python function that checks if a given number is prime or not from 1 to 200 ?"
      ],
      "metadata": {
        "id": "1nS8KWHQYB1D"
      }
    },
    {
      "cell_type": "code",
      "source": [
        "def is_prime(n):\n",
        "    if n < 2:\n",
        "        return False\n",
        "    for i in range(2, int(n**0.5) + 1):\n",
        "        if n % i == 0:\n",
        "            return False\n",
        "    return True\n",
        "print(is_prime(7))\n",
        "print(is_prime(100))\n",
        "print(is_prime(199))\n"
      ],
      "metadata": {
        "colab": {
          "base_uri": "https://localhost:8080/"
        },
        "id": "AXoiTq3sYNWQ",
        "outputId": "e84335c6-4dd3-49e0-e00c-036354155b7b"
      },
      "execution_count": null,
      "outputs": [
        {
          "output_type": "stream",
          "name": "stdout",
          "text": [
            "True\n",
            "False\n",
            "True\n"
          ]
        }
      ]
    },
    {
      "cell_type": "markdown",
      "source": [
        "Q-5 Create an iterator class in Python that generates the Fibonacci sequence up to a specified number of terms?\n"
      ],
      "metadata": {
        "id": "qED6QHiiYjZ8"
      }
    },
    {
      "cell_type": "code",
      "source": [
        "class Fibonacci:\n",
        "    def __init__(self, n_terms):\n",
        "        self.n_terms = n_terms\n",
        "        self.a, self.b = 0, 1\n",
        "        self.count = 0\n",
        "\n",
        "    def __iter__(self):\n",
        "        return self\n",
        "\n",
        "    def __next__(self):\n",
        "        if self.count >= self.n_terms:\n",
        "            raise StopIteration\n",
        "        result = self.a\n",
        "        self.a, self.b = self.b, self.a + self.b\n",
        "        self.count += 1\n",
        "        return result\n",
        "\n",
        "\n",
        "fib = Fibonacci(7)\n",
        "for num in fib:\n",
        "    print(num, end=\" \")\n"
      ],
      "metadata": {
        "colab": {
          "base_uri": "https://localhost:8080/"
        },
        "id": "jLtzEPvGYxp8",
        "outputId": "a426b44c-9cce-47b0-e34f-deed12e9e928"
      },
      "execution_count": null,
      "outputs": [
        {
          "output_type": "stream",
          "name": "stdout",
          "text": [
            "0 1 1 2 3 5 8 "
          ]
        }
      ]
    },
    {
      "cell_type": "markdown",
      "source": [
        "Q-6 Write a generator function in Python that yields the powers of 2 up to a given exponent?"
      ],
      "metadata": {
        "id": "P-8edwwaZoRJ"
      }
    },
    {
      "cell_type": "code",
      "source": [
        "def powers_of_two(max_exp):\n",
        "    for i in range(max_exp + 1):\n",
        "        yield 2 ** i\n",
        "for power in powers_of_two(5):\n",
        "    print(power, end=\" \")"
      ],
      "metadata": {
        "colab": {
          "base_uri": "https://localhost:8080/"
        },
        "id": "IHnyAdVVZ3Y0",
        "outputId": "270d018c-84e7-4bff-ab98-6734c89b6e82"
      },
      "execution_count": null,
      "outputs": [
        {
          "output_type": "stream",
          "name": "stdout",
          "text": [
            "1 2 4 8 16 32 "
          ]
        }
      ]
    },
    {
      "cell_type": "markdown",
      "source": [
        "Q-7 Implement a generator function that reads a file line by line and yields each line as a string ?"
      ],
      "metadata": {
        "id": "n8Q9fg7aaA5e"
      }
    },
    {
      "cell_type": "markdown",
      "source": [
        "Ans def read_file_lines(filepath):\n",
        "    with open(filepath, 'r') as file:\n",
        "        for line in file:\n",
        "            yield line.strip()\n",
        "Example usage:\n",
        "python\n",
        "\n",
        "for line in read_file_lines(\"example.txt\"):\n",
        "    print(line)\n"
      ],
      "metadata": {
        "id": "4rYp0kpSbOfA"
      }
    },
    {
      "cell_type": "markdown",
      "source": [
        "Q-8 Use a lambda function in Python to sort a list of tuples based on the second element of each tuple ?"
      ],
      "metadata": {
        "id": "nzFJNYaobZ2o"
      }
    },
    {
      "cell_type": "code",
      "source": [
        "data = [(1, 3), (4, 1), (2, 2)]\n",
        "\n",
        "# Sort by second element\n",
        "sorted_data = sorted(data, key=lambda x: x[1])\n",
        "\n",
        "print(sorted_data)"
      ],
      "metadata": {
        "colab": {
          "base_uri": "https://localhost:8080/"
        },
        "id": "GUIPiMi6bsv3",
        "outputId": "1edf7590-0ba5-4351-bd02-186586eee009"
      },
      "execution_count": null,
      "outputs": [
        {
          "output_type": "stream",
          "name": "stdout",
          "text": [
            "[(4, 1), (2, 2), (1, 3)]\n"
          ]
        }
      ]
    },
    {
      "cell_type": "markdown",
      "source": [
        "Q-9 Write a Python program that uses `map()` to convert a list of temperatures from Celsius to Fahrenheit?"
      ],
      "metadata": {
        "id": "728LRRJsbvf8"
      }
    },
    {
      "cell_type": "code",
      "source": [
        "def c_to_f(c):\n",
        "    return (c * 9/5) + 32\n",
        "\n",
        "celsius_temps = [0, 20, 37, 100]\n",
        "fahrenheit_temps = list(map(c_to_f, celsius_temps))\n",
        "\n",
        "print(fahrenheit_temps)"
      ],
      "metadata": {
        "colab": {
          "base_uri": "https://localhost:8080/"
        },
        "id": "wuz9yVP_b--i",
        "outputId": "9e363e74-72ca-4ef1-8bbc-67608bb20218"
      },
      "execution_count": null,
      "outputs": [
        {
          "output_type": "stream",
          "name": "stdout",
          "text": [
            "[32.0, 68.0, 98.6, 212.0]\n"
          ]
        }
      ]
    },
    {
      "cell_type": "markdown",
      "source": [
        "Q-10 Create a Python program that uses `filter()` to remove all the vowels from a given string?"
      ],
      "metadata": {
        "id": "gfTrGZ1icA9F"
      }
    },
    {
      "cell_type": "code",
      "source": [
        "def is_not_vowel(char):\n",
        "    return char.lower() not in 'aeiou'\n",
        "\n",
        "text = \"Hello, World!\"\n",
        "result = ''.join(filter(is_not_vowel, text))\n",
        "\n",
        "print(result)"
      ],
      "metadata": {
        "colab": {
          "base_uri": "https://localhost:8080/"
        },
        "id": "IuRaqQlBcWNC",
        "outputId": "750237e3-fad5-464a-9007-8452999ced40"
      },
      "execution_count": null,
      "outputs": [
        {
          "output_type": "stream",
          "name": "stdout",
          "text": [
            "Hll, Wrld!\n"
          ]
        }
      ]
    },
    {
      "cell_type": "markdown",
      "source": [
        "Q-11 Imagine an accounting routine used in a book shop. It works on a list with sublists, which look like this ?\n",
        "\n",
        "Order Number Book Title and author              Quantity   Price per item\n",
        "34587         Learning Python,Mark Lutz          4          40.95         \n",
        "98762         Programming Python, Mark Lutz      5          56.80\n",
        "77226         Head First Python, Paul Barry      3          32.95\n",
        "88112         Einfuhrung in Python3, Bernd Klein 3          24.99\n",
        "\n",
        "Write a Python program, which returns a list with 2-tuples. Each tuple consists of the order number and the product of the price per item and the quantity. The product should be increased by 10,- € if the value of the order is smaller than 100,00 €.Write a Python program using lambda and map?\n",
        "\n"
      ],
      "metadata": {
        "id": "uGi-2_pzcYkj"
      }
    },
    {
      "cell_type": "code",
      "source": [
        "orders = [\n",
        "    [34587, \"Learning Python, Mark Lutz\", 4, 40.95],\n",
        "    [98762, \"Programming Python, Mark Lutz\", 5, 56.80],\n",
        "    [77226, \"Head First Python, Paul Barry\", 3, 32.95],\n",
        "    [88112, \"Einfuhrung in Python3, Bernd Klein\", 3, 24.99]\n",
        "]\n",
        "\n",
        "result = list(map(lambda order: (\n",
        "    order[0],\n",
        "    order[2] * order[3] + (10 if order[2] * order[3] < 100 else 0)\n",
        "), orders))\n",
        "\n",
        "print(result)"
      ],
      "metadata": {
        "colab": {
          "base_uri": "https://localhost:8080/"
        },
        "id": "SOilzoC2fZnh",
        "outputId": "b09a5626-f772-4107-fa1e-cece7126b29b"
      },
      "execution_count": null,
      "outputs": [
        {
          "output_type": "stream",
          "name": "stdout",
          "text": [
            "[(34587, 163.8), (98762, 284.0), (77226, 108.85000000000001), (88112, 84.97)]\n"
          ]
        }
      ]
    }
  ]
}